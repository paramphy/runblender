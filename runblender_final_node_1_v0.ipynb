{
  "nbformat": 4,
  "nbformat_minor": 0,
  "metadata": {
    "colab": {
      "name": "runblender_final_node_1.ipynb",
      "provenance": [],
      "collapsed_sections": [],
      "include_colab_link": true
    },
    "kernelspec": {
      "name": "python3",
      "display_name": "Python 3"
    },
    "accelerator": "GPU"
  },
  "cells": [
    {
      "cell_type": "markdown",
      "metadata": {
        "id": "view-in-github",
        "colab_type": "text"
      },
      "source": [
        "<a href=\"https://colab.research.google.com/github/paramphy/runblender/blob/master/runblender_final_node_1.ipynb\" target=\"_parent\"><img src=\"https://colab.research.google.com/assets/colab-badge.svg\" alt=\"Open In Colab\"/></a>"
      ]
    },
    {
      "cell_type": "code",
      "metadata": {
        "id": "-k1aZjWTOmFj",
        "colab_type": "code",
        "colab": {}
      },
      "source": [
        "#@Project details\n",
        "\n",
        "name_of_the_project = \"cup_earth\"  #@param {type: \"string\"}\n",
        "run_type = \"Single\" #@param [\"Single\", \"Animation\"]\n",
        "single_frame_number = 1  #@param {type: \"integer\"}\n",
        "start_frame = 0  #@param {type: \"integer\"}\n",
        "end_frame = 142  #@param {type: \"integer\"}\n",
        "input_project_file = name_of_the_project + \".blend\"\n",
        "output_project_file = name_of_the_project + \"png\"\n",
        "#@markdown ---\n"
      ],
      "execution_count": 0,
      "outputs": []
    },
    {
      "cell_type": "markdown",
      "metadata": {
        "id": "vdWkwAMYN52S",
        "colab_type": "text"
      },
      "source": [
        "Google Drive Mount"
      ]
    },
    {
      "cell_type": "code",
      "metadata": {
        "id": "QRzNmiHN8Xr0",
        "colab_type": "code",
        "outputId": "d09a3685-babc-47ef-b968-79b09c2aa9fa",
        "colab": {
          "base_uri": "https://localhost:8080/",
          "height": 129
        }
      },
      "source": [
        "from google.colab import drive\n",
        "drive.mount('/gdrive')"
      ],
      "execution_count": 14,
      "outputs": [
        {
          "output_type": "stream",
          "text": [
            "Go to this URL in a browser: https://accounts.google.com/o/oauth2/auth?client_id=947318989803-6bn6qk8qdgf4n4g3pfee6491hc0brc4i.apps.googleusercontent.com&redirect_uri=urn%3aietf%3awg%3aoauth%3a2.0%3aoob&response_type=code&scope=email%20https%3a%2f%2fwww.googleapis.com%2fauth%2fdocs.test%20https%3a%2f%2fwww.googleapis.com%2fauth%2fdrive%20https%3a%2f%2fwww.googleapis.com%2fauth%2fdrive.photos.readonly%20https%3a%2f%2fwww.googleapis.com%2fauth%2fpeopleapi.readonly\n",
            "\n",
            "Enter your authorization code:\n",
            "··········\n",
            "Mounted at /gdrive\n"
          ],
          "name": "stdout"
        }
      ]
    },
    {
      "cell_type": "markdown",
      "metadata": {
        "id": "Pm6N-sBbNrPu",
        "colab_type": "text"
      },
      "source": [
        "Downloading Blender 2.82"
      ]
    },
    {
      "cell_type": "code",
      "metadata": {
        "id": "GPJ9fmoB6PWM",
        "colab_type": "code",
        "outputId": "37c2b77f-bf42-40a0-adfb-ee4ef9ed5cd3",
        "colab": {
          "base_uri": "https://localhost:8080/",
          "height": 219
        }
      },
      "source": [
        "!wget -nc https://ftp.halifax.rwth-aachen.de/blender/release/Blender2.82/blender-2.82-linux64.tar.xz"
      ],
      "execution_count": 10,
      "outputs": [
        {
          "output_type": "stream",
          "text": [
            "--2020-04-08 15:07:16--  https://ftp.halifax.rwth-aachen.de/blender/release/Blender2.82/blender-2.82-linux64.tar.xz\n",
            "Resolving ftp.halifax.rwth-aachen.de (ftp.halifax.rwth-aachen.de)... 137.226.34.46, 2a00:8a60:e012:a00::21\n",
            "Connecting to ftp.halifax.rwth-aachen.de (ftp.halifax.rwth-aachen.de)|137.226.34.46|:443... connected.\n",
            "HTTP request sent, awaiting response... 200 OK\n",
            "Length: 134336152 (128M) [application/x-xz]\n",
            "Saving to: ‘blender-2.82-linux64.tar.xz’\n",
            "\n",
            "blender-2.82-linux6 100%[===================>] 128.11M  19.8MB/s    in 7.3s    \n",
            "\n",
            "2020-04-08 15:07:24 (17.4 MB/s) - ‘blender-2.82-linux64.tar.xz’ saved [134336152/134336152]\n",
            "\n"
          ],
          "name": "stdout"
        }
      ]
    },
    {
      "cell_type": "markdown",
      "metadata": {
        "id": "UUwwvaq5BxzN",
        "colab_type": "text"
      },
      "source": [
        "Unpack and move blender"
      ]
    },
    {
      "cell_type": "code",
      "metadata": {
        "id": "lbQgtOme6qTJ",
        "colab_type": "code",
        "colab": {}
      },
      "source": [
        "!tar -xf ./blender-2.82-linux64.tar.xz\n",
        "!mv ./blender-2.82-linux64.tar.xz ./blender282"
      ],
      "execution_count": 0,
      "outputs": []
    },
    {
      "cell_type": "code",
      "metadata": {
        "id": "RU3p_G4hDk97",
        "colab_type": "code",
        "outputId": "6be20791-d6da-48e8-f3a8-ae64cf2349ec",
        "colab": {
          "base_uri": "https://localhost:8080/",
          "height": 366
        }
      },
      "source": [
        "!apt install libboost-all-dev\n",
        "!apt install libgl1-mesa-dev\n",
        "!apt install libglu1-mesa libsm-dev"
      ],
      "execution_count": 12,
      "outputs": [
        {
          "output_type": "stream",
          "text": [
            "Reading package lists... Done\n",
            "Building dependency tree       \n",
            "Reading state information... Done\n",
            "libboost-all-dev is already the newest version (1.65.1.0ubuntu1).\n",
            "0 upgraded, 0 newly installed, 0 to remove and 25 not upgraded.\n",
            "Reading package lists... Done\n",
            "Building dependency tree       \n",
            "Reading state information... Done\n",
            "libgl1-mesa-dev is already the newest version (19.2.8-0ubuntu0~18.04.3).\n",
            "libgl1-mesa-dev set to manually installed.\n",
            "0 upgraded, 0 newly installed, 0 to remove and 25 not upgraded.\n",
            "Reading package lists... Done\n",
            "Building dependency tree       \n",
            "Reading state information... Done\n",
            "libglu1-mesa is already the newest version (9.0.0-2.1build1).\n",
            "libglu1-mesa set to manually installed.\n",
            "libsm-dev is already the newest version (2:1.2.2-1).\n",
            "libsm-dev set to manually installed.\n",
            "0 upgraded, 0 newly installed, 0 to remove and 25 not upgraded.\n"
          ],
          "name": "stdout"
        }
      ]
    },
    {
      "cell_type": "markdown",
      "metadata": {
        "id": "Wh4i8msvAanq",
        "colab_type": "text"
      },
      "source": [
        "Required for Blender to use the GPU as expected"
      ]
    },
    {
      "cell_type": "code",
      "metadata": {
        "id": "30Tv3lIeVaC6",
        "colab_type": "code",
        "colab": {}
      },
      "source": [
        "data = \"import re\\n\"+\\\n",
        "    \"import bpy\\n\"+\\\n",
        "    \"scene = bpy.context.scene\\n\"+\\\n",
        "    \"scene.cycles.device = 'GPU'\\n\"+\\\n",
        "    \"prefs = bpy.context.preferences\\n\"+\\\n",
        "    \"prefs.addons['cycles'].preferences.get_devices()\\n\"+\\\n",
        "    \"cprefs = prefs.addons['cycles'].preferences\\n\"+\\\n",
        "    \"print(cprefs)\\n\"+\\\n",
        "    \"# Attempt to set GPU device types if available\\n\"+\\\n",
        "    \"for compute_device_type in ('CUDA', 'OPENCL', 'NONE'):\\n\"+\\\n",
        "    \"    try:\\n\"+\\\n",
        "    \"        cprefs.compute_device_type = compute_device_type\\n\"+\\\n",
        "    \"        print('Device found',compute_device_type)\\n\"+\\\n",
        "    \"        break\\n\"+\\\n",
        "    \"    except TypeError:\\n\"+\\\n",
        "    \"        pass\\n\"+\\\n",
        "    \"# Enable all CPU and GPU devices\\n\"+\\\n",
        "    \"for device in cprefs.devices:\\n\"+\\\n",
        "    \"    if not re.match('intel', device.name, re.I):\\n\"+\\\n",
        "    \"        print('Activating',device)\\n\"+\\\n",
        "    \"        device.use = True\\n\"\n",
        "with open('setgpu.py', 'w') as f:\n",
        "    f.write(data)"
      ],
      "execution_count": 0,
      "outputs": []
    },
    {
      "cell_type": "markdown",
      "metadata": {
        "id": "_HoAUHQNOAgq",
        "colab_type": "text"
      },
      "source": [
        "To render a single frame delete the # in front of the command below\n",
        "\n"
      ]
    },
    {
      "cell_type": "code",
      "metadata": {
        "id": "cRwDebU4sP0f",
        "colab_type": "code",
        "colab": {}
      },
      "source": [
        "!sudo ./blender-2.82-linux64/blender -P setgpu.py -b '/gdrive/My Drive/Project X/'$input_project_file -E CYCLES -o '/gdrive/My Drive/Project X/'$output_project_file  -f $single_frame_number"
      ],
      "execution_count": 0,
      "outputs": []
    },
    {
      "cell_type": "markdown",
      "metadata": {
        "id": "PP4DzhYICKsk",
        "colab_type": "text"
      },
      "source": [
        "For all frames"
      ]
    },
    {
      "cell_type": "code",
      "metadata": {
        "id": "VFVx8omJCGBN",
        "colab_type": "code",
        "colab": {}
      },
      "source": [
        "!sudo ./blender-2.82-linux64/blender -P setgpu.py -b '/gdrive/My Drive/Project X/'$input_project_file -E CYCLES -o '/gdrive/My Drive/Project X/PNGS for video'$output_project_file  -s $start_frame -e $end_frame -a"
      ],
      "execution_count": 0,
      "outputs": []
    }
  ]
}